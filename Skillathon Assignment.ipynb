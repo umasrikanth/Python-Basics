{
 "cells": [
  {
   "cell_type": "code",
   "execution_count": 1,
   "metadata": {},
   "outputs": [],
   "source": [
    "\n"
   ]
  },
  {
   "cell_type": "code",
   "execution_count": 5,
   "metadata": {},
   "outputs": [
    {
     "name": "stdout",
     "output_type": "stream",
     "text": [
      "130\n",
      "4008,4016,4024,4032,4048,4056,4064,4072,4088,4096,4104,4112,4128,4136,4144,4152,4168,4176,4184,4192,4208,4216,4224,4232,4248,4256,4264,4272,4288,4296,4304,4312,4328,4336,4344,4352,4368,4376,4384,4392,4408,4416,4424,4432,4448,4456,4464,4472,4488,4496,4504,4512,4528,4536,4544,4552,4568,4576,4584,4592,4608,4616,4624,4632,4648,4656,4664,4672,4688,4696,4704,4712,4728,4736,4744,4752,4768,4776,4784,4792,4808,4816,4824,4832,4848,4856,4864,4872,4888,4896,4904,4912,4928,4936,4944,4952,4968,4976,4984,4992,5008,5016,5024,5032,5048,5056,5064,5072,5088,5096,5104,5112,5128,5136,5144,5152,5168,5176,5184,5192,5208,5216,5224,5232,5248,5256,5264,5272,5288,5296\n"
     ]
    }
   ],
   "source": [
    "\"\"\"\n",
    "Write a program which will find all such numbers which are divisible by 8 but are not a multiple of 5, \n",
    "between 4000 and 5300 (both included). The numbers obtained should be printed in a comma-separated sequence \n",
    "on a single line.\n",
    "\"\"\"\n",
    "x = range(4000, 5301)\n",
    "count=0\n",
    "l1=[]\n",
    "for n in x:\n",
    "    if n % 8 == 0 and n % 5 !=0:\n",
    "        #print(n)\n",
    "        \n",
    "        l1.append(n)\n",
    "        count= count + 1\n",
    "print(count)\n",
    "#print(l1)  #print list output\n",
    "\n",
    "string1=''\n",
    "for i in l1:\n",
    "    string1=string1 + ',' + str(i)\n",
    "print(string1[1:])"
   ]
  },
  {
   "cell_type": "code",
   "execution_count": 12,
   "metadata": {},
   "outputs": [
    {
     "name": "stdout",
     "output_type": "stream",
     "text": [
      "Enter a number 5\n",
      "1,2,3,4,5\n",
      "The factorial of 5 is 120\n"
     ]
    }
   ],
   "source": [
    "\"\"\"\n",
    "Write a program which can compute the factorial of a given numbers. The results should be printed in a comma-separated sequence \n",
    "on a single line.\n",
    "Hints: In case of input data being supplied to the question, it should be assumed to be a console input.\n",
    "\"\"\"\n",
    "\n",
    "number=int(input(\"Enter a number \"))\n",
    "\n",
    "factorial = 1\n",
    "l1=[]\n",
    "# check if the number is negative, positive or zero\n",
    "if number < 0:\n",
    "   print(\"Factorial does not exist for negative numbers\")\n",
    "elif number == 0:\n",
    "   print(\"The factorial of 0 is 1\")\n",
    "else:\n",
    "   for i in range(1,number + 1):\n",
    "       factorial = factorial*i\n",
    "       l1.append(i)\n",
    "        \n",
    "string1=''\n",
    "for j in l1:\n",
    "    string1=string1 + ',' + str(j)\n",
    "print(string1[1:])\n",
    "\n",
    "print(\"The factorial of\",number,\"is\",factorial)"
   ]
  },
  {
   "cell_type": "code",
   "execution_count": 13,
   "metadata": {},
   "outputs": [
    {
     "name": "stdout",
     "output_type": "stream",
     "text": [
      "Enter a number 4\n",
      "{1: 1, 2: 4, 3: 9, 4: 16}\n"
     ]
    }
   ],
   "source": [
    "\"\"\"\n",
    "With a given integral number n, write a program to generate a dictionary that contains (i, i*i) such that is an integral number \n",
    "between 1 and n (both included) and then the program should print the dictionary.\n",
    "Suppose the input is supplied to the program: 4\n",
    "Then, the output should be: {1: 1, 2: 4, 3: 9, 4: 16}\n",
    "Hints: In case of input data being supplied to the question, it should be assumed to be a console input. Consider use dict()\n",
    "\"\"\"\n",
    "\n",
    "number=int(input(\"Enter a number \"))\n",
    "\n",
    "thisdict = {}\n",
    "for i in range(1,number + 1):\n",
    "       thisdict[i] = i**2\n",
    "print(thisdict)"
   ]
  },
  {
   "cell_type": "code",
   "execution_count": 16,
   "metadata": {},
   "outputs": [
    {
     "name": "stdout",
     "output_type": "stream",
     "text": [
      "Enter a sequence of comma-separated numbers 1,2,3,4,5\n",
      "['1', '2', '3', '4', '5']\n",
      "('1', '2', '3', '4', '5')\n"
     ]
    }
   ],
   "source": [
    "\"\"\"\n",
    "Write a program which accepts a sequence of comma-separated numbers from console and generate a list and a tuple \n",
    "which contains every number.\n",
    "Suppose the input is supplied to the program: 34, 67, 55, 33, 12, 98\n",
    "Then, the output should be:\n",
    "['34', '67', '55', '33', '12', '98']\n",
    "('34', '67', '55', '33', '12', '98')\n",
    "Hints: In case of input data being supplied to the question, it should be assumed to be a console input. \n",
    "tuple() method can convert list to tuple\n",
    "\"\"\"\n",
    "\n",
    "String1=input(\"Enter a sequence of comma-separated numbers \")\n",
    "print(String1.split(\",\"))\n",
    "print(tuple(String1.split(\",\")))"
   ]
  },
  {
   "cell_type": "code",
   "execution_count": 25,
   "metadata": {},
   "outputs": [
    {
     "name": "stdout",
     "output_type": "stream",
     "text": [
      "Enter a name: sri\n",
      "Enter Age: 32\n",
      "SRI\n",
      "32\n"
     ]
    }
   ],
   "source": [
    "\"\"\"\n",
    "Define a class which has at least two methods:\n",
    "getString: to get a string from console input\n",
    "printString: to print the string in upper case\n",
    "Also please include simple test function to test the class methods.\n",
    "Hints: Use __init__ method to construct some parameters\n",
    "\"\"\"\n",
    "\n",
    "class Sample:\n",
    "    def __init__(self,name):\n",
    "        self.name=name\n",
    "    \n",
    "    def getString(self):\n",
    "        self.age=int(input(\"Enter Age: \"))\n",
    "        \n",
    "    def printString(self):\n",
    "        print(self.name.upper())\n",
    "        print(self.age)\n",
    "        \n",
    "name=input(\"Enter a name: \")\n",
    "s1=Sample(name)\n",
    "s1.getString()\n",
    "s1.printString()"
   ]
  },
  {
   "cell_type": "code",
   "execution_count": 49,
   "metadata": {},
   "outputs": [
    {
     "name": "stdout",
     "output_type": "stream",
     "text": [
      "Enter a Comma Separated values: 100,150,180\n",
      "['100', '150', '180']\n",
      "18,22,24\n"
     ]
    }
   ],
   "source": [
    "\"\"\"\n",
    "Write a program that calculates and prints the value according to the given formula:\n",
    "Q = Square root of [(2 * C * D)/H]\n",
    "Following are the fixed values of C and H: C is 50. H is 30.\n",
    "D is the variable whose values should be input to your program in a comma-separated sequence.\n",
    "Let us assume the following comma separated input sequence is given to the program: 100,150,180\n",
    "The output of the program should be: 18, 22, 24\n",
    "Hints: If the output received is in decimal form, it should be rounded off to its nearest value \n",
    "(for example, if the output received is 26.0, it should be printed as 26)\n",
    "In case of input data being supplied to the question, it should be assumed to be a console input.\n",
    "\"\"\"\n",
    "\n",
    "import math\n",
    "\n",
    "C=50\n",
    "H=30\n",
    "D= input(\"Enter a Comma Separated values: \")\n",
    "\n",
    "print(D.split(\",\"))\n",
    "length=int(len(D.split(\",\")))\n",
    "data=D.split(\",\")\n",
    "string1=''\n",
    "for i in range(0,length):\n",
    "    \n",
    "    string1= string1 + str(int(math.sqrt((2 * C * int(data[i])) / H))) + \",\"\n",
    "\n",
    "#print(int(math.sqrt((2 * C * int(data[i])) / H)))\n",
    "print(string1[:-1])\n",
    "\n"
   ]
  },
  {
   "cell_type": "code",
   "execution_count": 54,
   "metadata": {},
   "outputs": [
    {
     "name": "stdout",
     "output_type": "stream",
     "text": [
      "Enter a Comma Separated words: without, hello, bag, world\n",
      "[' bag', ' hello', ' world', 'without']\n"
     ]
    }
   ],
   "source": [
    "\"\"\"\n",
    "Write a program that accepts a comma separated sequence of words as input and prints the words in a comma-separated sequence \n",
    "after sorting them alphabetically.\n",
    "Suppose the input is supplied to the program: without, hello, bag, world\n",
    "Then, the output should be: bag, hello, without, world\n",
    "Hints: In case of input data being supplied to the question, it should be assumed to be a console input.\n",
    "\"\"\"\n",
    "\n",
    "words= input(\"Enter a Comma Separated words: \")\n",
    "splitted_words = words.split(\",\")\n",
    "print(sorted(splitted_words))"
   ]
  },
  {
   "cell_type": "code",
   "execution_count": null,
   "metadata": {},
   "outputs": [],
   "source": [
    "\"\"\"\n",
    "Write a program that accepts sequence of lines as input and prints the lines after making all characters in the \n",
    "sentence capitalized.\n",
    "\"\"\"\n",
    "\n",
    "lines = []\n",
    "while True:\n",
    "    line = input()\n",
    "    if line:\n",
    "        lines.append(line)\n",
    "    else:\n",
    "        break\n",
    "text = '\\n'.join(lines)"
   ]
  },
  {
   "cell_type": "code",
   "execution_count": 20,
   "metadata": {},
   "outputs": [
    {
     "name": "stdout",
     "output_type": "stream",
     "text": [
      "Enter a Comma Separated Binary Numbers Ex 0010,1010: 1010,0101,1010,0101,1111\n",
      "['1010', '0101', '1010', '0101', '1111']\n",
      "10,5,10,5,15\n"
     ]
    }
   ],
   "source": [
    "\"\"\"\n",
    "11. Write a program which accepts a sequence of comma separated 4 digit binary numbers as its input and then check whether they \n",
    "are divisible by 5 or not. The numbers that are divisible by 5 are to be printed in a comma separated sequence.\n",
    "\"\"\"\n",
    "binaries= input(\"Enter a Comma Separated Binary Numbers Ex 0010,1010: \")\n",
    "splitted_bins = binaries.split(\",\")\n",
    "print(splitted_bins)\n",
    "list1=[]\n",
    "x=''\n",
    "for i in splitted_bins:\n",
    "    #print(i)\n",
    "    binary1 = i \n",
    "    decimal, j, n = 0, 0, 0\n",
    "    string1=''\n",
    "    while(i != 0): \n",
    "        dec = int(i) % 10\n",
    "        decimal = decimal + dec * pow(2, j) \n",
    "        i = int(i)//10\n",
    "        j += 1\n",
    "    if(decimal % 5 == 0):\n",
    "        list1.append(decimal)\n",
    "        #x = \",\".join(list1)\n",
    "for k in list1:\n",
    "    x=x + str(k) + ','\n",
    "print(x[:-1])    \n",
    "         \n"
   ]
  },
  {
   "cell_type": "code",
   "execution_count": 26,
   "metadata": {},
   "outputs": [
    {
     "ename": "SyntaxError",
     "evalue": "invalid syntax (<ipython-input-26-e122ff2038e0>, line 11)",
     "output_type": "error",
     "traceback": [
      "\u001b[1;36m  File \u001b[1;32m\"<ipython-input-26-e122ff2038e0>\"\u001b[1;36m, line \u001b[1;32m11\u001b[0m\n\u001b[1;33m    for k range(1,len(str(i))):\u001b[0m\n\u001b[1;37m              ^\u001b[0m\n\u001b[1;31mSyntaxError\u001b[0m\u001b[1;31m:\u001b[0m invalid syntax\n"
     ]
    }
   ],
   "source": [
    "\"\"\"\n",
    "12. Write a program, which will find all such numbers between 1000 and 3000 (both included) such that \n",
    "each digit of the number is an even number.\n",
    "\"\"\"\n",
    "start=int(input(\"Enter a Starting Number: \"))\n",
    "end=int(input(\"Enter a Ending Number: \"))\n",
    "\n",
    "for i in range(start,end+1):\n",
    "    print(i)\n",
    "    print(len(str(i)))\n",
    "    for k range(1,len(str(i))):\n",
    "        print(k)\n"
   ]
  },
  {
   "cell_type": "code",
   "execution_count": 18,
   "metadata": {},
   "outputs": [
    {
     "name": "stdout",
     "output_type": "stream",
     "text": [
      "Enter Alphanumeric Sentence: hello world! 123\n",
      "LETTERS  10\n",
      "DIGITS 3\n"
     ]
    }
   ],
   "source": [
    "\"\"\"\n",
    "13. Write a program that accepts a sentence and calculate the number of letters and digits.\n",
    "Suppose the input is supplied to the program: hello world! 123\n",
    "Then, the output should be: LETTERS 10\n",
    "DIGITS 3\n",
    "\"\"\"\n",
    "\n",
    "Sentence = input(\"Enter Alphanumeric Sentence: \")\n",
    "length=len(Sentence)\n",
    "letters=0\n",
    "digits=0\n",
    "\n",
    "for i in range(0,length):\n",
    "    \n",
    "    if ord(Sentence[i])>=65 and ord(Sentence[i])<=122:\n",
    "        letters=letters + 1\n",
    "    if ord(Sentence[i])>=48 and ord(Sentence[i])<=57:\n",
    "        digits = digits + 1\n",
    "            \n",
    "print(\"LETTERS \",+ letters)   \n",
    "print(\"DIGITS\", + digits) "
   ]
  },
  {
   "cell_type": "code",
   "execution_count": 27,
   "metadata": {},
   "outputs": [
    {
     "name": "stdout",
     "output_type": "stream",
     "text": [
      "Enter Alphanumeric Sentence: Hello world!\n",
      "UPPER CASE  1\n",
      "LOWER CASE 9\n"
     ]
    }
   ],
   "source": [
    "\"\"\"\n",
    "14. Write a program that accepts a sentence and calculate the number of upper case letters and lower case letters.\n",
    "Suppose the input is supplied to the program: Hello world!\n",
    "Then, the output should be: UPPER CASE 1\n",
    "LOWER CASE 9\n",
    "\"\"\"\n",
    "Sentence = input(\"Enter Alphanumeric Sentence: \")\n",
    "length=len(Sentence)\n",
    "Upper=0\n",
    "Lower=0\n",
    "\n",
    "for i in range(0,length):\n",
    "    \n",
    "    if ord(Sentence[i])>=65 and ord(Sentence[i])<=90:\n",
    "        Upper=Upper + 1\n",
    "    if ord(Sentence[i])>=97 and ord(Sentence[i])<=122:\n",
    "        Lower = Lower + 1\n",
    "            \n",
    "print(\"UPPER CASE \",+ Upper)   \n",
    "print(\"LOWER CASE\", + Lower) \n"
   ]
  },
  {
   "cell_type": "code",
   "execution_count": 26,
   "metadata": {},
   "outputs": [
    {
     "ename": "SyntaxError",
     "evalue": "invalid syntax (<ipython-input-26-f7e0b10f1a13>, line 9)",
     "output_type": "error",
     "traceback": [
      "\u001b[1;36m  File \u001b[1;32m\"<ipython-input-26-f7e0b10f1a13>\"\u001b[1;36m, line \u001b[1;32m9\u001b[0m\n\u001b[1;33m    myorder = {0}+{0}{0}+{0}{0}{0}+{0}{0}{0}{0}\u001b[0m\n\u001b[1;37m                     ^\u001b[0m\n\u001b[1;31mSyntaxError\u001b[0m\u001b[1;31m:\u001b[0m invalid syntax\n"
     ]
    }
   ],
   "source": [
    "\"\"\"\n",
    "15. Write a program that computes the value of a+aa+aaa+aaaa with a given digit as the value of a.\n",
    "Suppose the input is supplied to the program: 9\n",
    "Then, the output should be: 11106\n",
    "\"\"\"\n",
    "a=int(input(\"Enter Number: \"))\n",
    "#print(a + aa)\n",
    "\n",
    "myorder = {0}+{0}{0}+{0}{0}{0}+{0}{0}{0}{0}\n",
    "print(myorder.format(a))"
   ]
  },
  {
   "cell_type": "code",
   "execution_count": 35,
   "metadata": {},
   "outputs": [
    {
     "name": "stdout",
     "output_type": "stream",
     "text": [
      "Enter Comma Separated Values: 1,2,3,4,5,6,7,8,9\n",
      "['1', '3', '5', '7', '9']\n"
     ]
    }
   ],
   "source": [
    "\"\"\"\n",
    "16. Use a list comprehension to square each odd number in a list. The list is input by a sequence of comma-separated numbers.\n",
    "\"\"\"\n",
    "List1 = input(\"Enter Comma Separated Values: \")\n",
    "list2=[]\n",
    "\n",
    "splitted_items = List1.split(\",\")\n",
    "#print(sorted(splitted_items[0]))\n",
    "length=len(splitted_items)\n",
    "for i in range(0,length):\n",
    "    if i%2 == 0:\n",
    "        list2.append(splitted_items[i])\n",
    "print(list2)"
   ]
  },
  {
   "cell_type": "code",
   "execution_count": null,
   "metadata": {},
   "outputs": [],
   "source": [
    "\"\"\"\n",
    "17. Write a program that computes the net amount of a bank account based a transaction log from console input. \n",
    "The transaction log format is shown as following:\n",
    "D 100\n",
    "W 200\n",
    "--D means deposit while W means withdrawal.\n",
    "\"\"\"\n"
   ]
  },
  {
   "cell_type": "code",
   "execution_count": 67,
   "metadata": {},
   "outputs": [
    {
     "name": "stdout",
     "output_type": "stream",
     "text": [
      "Enter Comma Separated Passwords: ABd1234@1,a F1#,2w3E*,2We3345,ABd1234@2\n",
      "ABd1234@1,ABd1234@2\n"
     ]
    }
   ],
   "source": [
    "\"\"\"\n",
    "18. A website requires the users to input username and password to register. \n",
    "Write a program to check the validity of password input by users.\n",
    "\"\"\"\n",
    "Passwords=input(\"Enter Comma Separated Passwords: \")\n",
    "splitted_items = Passwords.split(\",\")\n",
    "length=len(splitted_items)\n",
    "lower=False\n",
    "upper=False\n",
    "Special=False\n",
    "digit=False\n",
    "pwdlength=False\n",
    "\n",
    "result=''\n",
    "\n",
    "for i in range(0,length):\n",
    "    if len(splitted_items[i]) >= 6 and len(splitted_items[i]) <=12:\n",
    "        pwdlength=True\n",
    "        #print(splitted_items[i])\n",
    "        k=len(splitted_items[i])\n",
    "        #print(k)\n",
    "        for j in range(0,k):\n",
    "            if ord(splitted_items[i][j]) >=65 and ord(splitted_items[i][j]) <=90:\n",
    "                upper=True\n",
    "            if ord(splitted_items[i][j]) >=97 and ord(splitted_items[i][j]) <=122:\n",
    "                lower=True\n",
    "            if ord(splitted_items[i][j])>=48 and ord(splitted_items[i][j])<=57:\n",
    "                digit=True\n",
    "            if ord(splitted_items[i][j])==35 or ord(splitted_items[i][j])==36 or ord(splitted_items[i][j])==64:\n",
    "                Special=True\n",
    "        if lower==True and upper==True and Special==True and digit==True and pwdlength==True:\n",
    "            result=result + \",\" +splitted_items[i]\n",
    "            #print(splitted_items[i])\n",
    "            lower=False\n",
    "            upper=False\n",
    "            Special=False\n",
    "            digit=False\n",
    "            pwdlength=False\n",
    "print(result[1:])            \n",
    "        "
   ]
  },
  {
   "cell_type": "code",
   "execution_count": 45,
   "metadata": {},
   "outputs": [
    {
     "name": "stdout",
     "output_type": "stream",
     "text": [
      "Enter any character: @\n",
      "The ASCII value of char @ is:  64\n"
     ]
    }
   ],
   "source": [
    "ch = input(\"Enter any character: \")\n",
    "\n",
    "print(\"The ASCII value of char \" + ch + \" is: \",ord(ch))"
   ]
  },
  {
   "cell_type": "code",
   "execution_count": null,
   "metadata": {},
   "outputs": [],
   "source": [
    "\"\"\"\n",
    "19. You are required to write a program to sort the (name, age, height) tuples by ascending order where name is string, age \n",
    "and height are numbers. The tuples are input by console. The sort criteria is:\n",
    "1: Sort based on name;\n",
    "2: Then sort based on age;\n",
    "3: Then sort by score.\n",
    "The priority is that name > age > score.\n",
    "\"\"\"\n"
   ]
  },
  {
   "cell_type": "code",
   "execution_count": null,
   "metadata": {},
   "outputs": [],
   "source": [
    "\"\"\"\n",
    "20. Define a class with a generator which can iterate the numbers, which are divisible by 7, between a given range 0 and n.\n",
    "Hints: Consider use yield\n",
    "\"\"\""
   ]
  },
  {
   "cell_type": "code",
   "execution_count": 1,
   "metadata": {},
   "outputs": [],
   "source": [
    "the_list = [2**x for x in range(5)]"
   ]
  },
  {
   "cell_type": "code",
   "execution_count": 2,
   "metadata": {},
   "outputs": [
    {
     "data": {
      "text/plain": [
       "[1, 2, 4, 8, 16]"
      ]
     },
     "execution_count": 2,
     "metadata": {},
     "output_type": "execute_result"
    }
   ],
   "source": [
    "the_list"
   ]
  },
  {
   "cell_type": "code",
   "execution_count": null,
   "metadata": {},
   "outputs": [],
   "source": [
    "\"\"\"\n",
    "21. A robot moves in a plane starting from the original point (0,0). The robot can move toward UP, DOWN, LEFT and RIGHT \n",
    "with a given steps.\n",
    "\"\"\""
   ]
  },
  {
   "cell_type": "code",
   "execution_count": null,
   "metadata": {},
   "outputs": [],
   "source": [
    "\"\"\"\n",
    "22. Write a program to compute the frequency of the words from the input. The output should output after sorting the key \n",
    "alphanumerically.\n",
    "\"\"\""
   ]
  },
  {
   "cell_type": "code",
   "execution_count": 4,
   "metadata": {},
   "outputs": [
    {
     "name": "stdout",
     "output_type": "stream",
     "text": [
      "Enter Number to get square: 3\n",
      "9\n"
     ]
    }
   ],
   "source": [
    "\"\"\"\n",
    "23. Write a method which can calculate square value of number\n",
    "Hints: Using the ** operator\n",
    "\"\"\"\n",
    "\n",
    "number=int(input(\"Enter Number to get square: \"))\n",
    "\n",
    "print(number ** 2)"
   ]
  },
  {
   "cell_type": "code",
   "execution_count": 23,
   "metadata": {},
   "outputs": [
    {
     "name": "stdout",
     "output_type": "stream",
     "text": [
      "Return the absolute value of the argument.\n",
      "\n",
      " -----------------------------------------------------------\n",
      "int(x=0) -> integer\n",
      "int(x, base=10) -> integer\n",
      "\n",
      "Convert a number or string to an integer, or return 0 if no arguments\n",
      "are given.  If x is a number, return x.__int__().  For floating point\n",
      "numbers, this truncates towards zero.\n",
      "\n",
      "If x is not a number or if base is given, then x must be a string,\n",
      "bytes, or bytearray instance representing an integer literal in the\n",
      "given base.  The literal can be preceded by '+' or '-' and be surrounded\n",
      "by whitespace.  The base defaults to 10.  Valid bases are 0 and 2-36.\n",
      "Base 0 means to interpret the base from the string as an integer literal.\n",
      ">>> int('0b100', base=0)\n",
      "4\n",
      "\n",
      " -----------------------------------------------------------\n",
      "Forward raw_input to frontends\n",
      "\n",
      "        Raises\n",
      "        ------\n",
      "        StdinNotImplentedError if active frontend doesn't support stdin.\n",
      "        \n",
      "\n",
      " -----------------------------------------------------------\n",
      "Returns the help description from Srikanth\n"
     ]
    }
   ],
   "source": [
    "\"\"\"\n",
    "24. Please write a program to print some Python built-in functions documents, such as abs(), int(), raw_input() And add document for your own function\n",
    "Hints: The built-in document method is __doc__\n",
    "\"\"\"\n",
    "class Srikanth: \n",
    "    def __init__(self): \n",
    "        '''The helper class is initialized'''\n",
    "  \n",
    "    def print_help(self): \n",
    "        '''Returns the help description from Srikanth'''\n",
    "        print('print_help description') \n",
    "  \n",
    "#help(Srikanth) \n",
    "#help(Srikanth.print_help)\n",
    "\n",
    "print(abs.__doc__)\n",
    "print(\"\\n -----------------------------------------------------------\")\n",
    "print(int.__doc__)\n",
    "print(\"\\n -----------------------------------------------------------\")\n",
    "print(input.__doc__)\n",
    "print(\"\\n -----------------------------------------------------------\")\n",
    "print(Srikanth.print_help.__doc__)\n"
   ]
  },
  {
   "cell_type": "code",
   "execution_count": null,
   "metadata": {},
   "outputs": [],
   "source": [
    "\"\"\"\n",
    "25. Define a class, which have a class parameter and have a same instance parameter.\n",
    "Hints: Define a instance parameter, need add it in __init__ method\n",
    "You can init a object with construct parameter or set the value later\n",
    "\"\"\""
   ]
  },
  {
   "cell_type": "code",
   "execution_count": 31,
   "metadata": {},
   "outputs": [
    {
     "name": "stdout",
     "output_type": "stream",
     "text": [
      "Enter 1st number: 10\n",
      "Enter 2nd number: 30\n",
      "Result 40\n"
     ]
    }
   ],
   "source": [
    "\"\"\"\n",
    "26. Define a function which can compute the sum of two numbers.\n",
    "Hints: Define a function with two numbers as arguments. You can compute the sum in the function and return the value.\n",
    "\"\"\"\n",
    "\n",
    "def num_add(number1,number2):\n",
    "    #print(int(number1) + int(number2))\n",
    "    return int(number1) + int(number2)\n",
    "\n",
    "\n",
    "num1= input(\"Enter 1st number: \")\n",
    "num2= input(\"Enter 2nd number: \")\n",
    "\n",
    "result=num_add(num1,num2)\n",
    "print(\"Result \" + str(result))\n"
   ]
  },
  {
   "cell_type": "code",
   "execution_count": 35,
   "metadata": {},
   "outputs": [
    {
     "name": "stdout",
     "output_type": "stream",
     "text": [
      "10\n",
      "<class 'int'>\n",
      "10\n",
      "<class 'str'>\n"
     ]
    }
   ],
   "source": [
    "\"\"\"\n",
    "27. Define a function that can convert a integer into a string and print it in console.\n",
    "Hints: Use str() to convert a number to string.\n",
    "\"\"\"\n",
    "\n",
    "a=10\n",
    "print(a)\n",
    "print(type(a))\n",
    "\n",
    "str(a)\n",
    "print(a)\n",
    "print(type(str(a)))"
   ]
  },
  {
   "cell_type": "code",
   "execution_count": 36,
   "metadata": {},
   "outputs": [
    {
     "name": "stdout",
     "output_type": "stream",
     "text": [
      "Enter 1st number: 10\n",
      "Enter 2nd number: 20\n",
      "30\n"
     ]
    }
   ],
   "source": [
    "\"\"\"\n",
    "29. Define a function that can receive two integral numbers in string form and compute their sum and then print it in console.\n",
    "Hints: Use int() to convert a string to integer.\n",
    "\"\"\"\n",
    "\n",
    "def num_add(number1,number2):\n",
    "    print(int(number1) + int(number2))\n",
    "    #return int(number1) + int(number2)\n",
    "\n",
    "\n",
    "num1= input(\"Enter 1st number: \")\n",
    "num2= input(\"Enter 2nd number: \")\n",
    "\n",
    "num_add(num1,num2)\n",
    "\n"
   ]
  },
  {
   "cell_type": "code",
   "execution_count": 38,
   "metadata": {},
   "outputs": [
    {
     "name": "stdout",
     "output_type": "stream",
     "text": [
      "Enter 1st word: uma\n",
      "Enter 2nd word: srikanth\n",
      "umasrikanth\n"
     ]
    }
   ],
   "source": [
    "\"\"\"\n",
    "30. Define a function that can accept two strings as input and concatenate them and then print it in console.\n",
    "Hints: Use + to concatenate the strings\n",
    "\"\"\"\n",
    "\n",
    "def strcon(s1,s2):\n",
    "    print(s1 + s2)\n",
    "    \n",
    "\n",
    "\n",
    "str1= input(\"Enter 1st word: \")\n",
    "str2= input(\"Enter 2nd word: \")\n",
    "\n",
    "strcon(str1,str2)"
   ]
  },
  {
   "cell_type": "code",
   "execution_count": 40,
   "metadata": {},
   "outputs": [
    {
     "name": "stdout",
     "output_type": "stream",
     "text": [
      "Enter 1st word: uma\n",
      "Enter 2nd word: sri\n",
      "uma\n",
      "sri\n"
     ]
    }
   ],
   "source": [
    "\"\"\"\n",
    "31. Define a function that can accept two strings as input and print the string with maximum length in console. \n",
    "If two strings have the same length, then the function should print al l strings line by line.\n",
    "Hints: Use len() function to get the length of a string\n",
    "\"\"\"\n",
    "\n",
    "def strmax(s1,s2):\n",
    "    #print(s1 + s2)\n",
    "    if len(s1)>len(s2):\n",
    "        print(s1)\n",
    "    elif len(s1)<len(s2):\n",
    "        print(s2)\n",
    "    else:\n",
    "        print(s1)\n",
    "        print(s2)\n",
    "    \n",
    "\n",
    "\n",
    "str1= input(\"Enter 1st word: \")\n",
    "str2= input(\"Enter 2nd word: \")\n",
    "\n",
    "strmax(str1,str2)"
   ]
  },
  {
   "cell_type": "code",
   "execution_count": 43,
   "metadata": {},
   "outputs": [
    {
     "name": "stdout",
     "output_type": "stream",
     "text": [
      "Enter an Integer 9\n",
      "It is an odd number\n"
     ]
    }
   ],
   "source": [
    "\"\"\"\n",
    "32. Define a function that can accept an integer number as input and print the \"It is an even number\" if the number is even, otherwise print \"It is an odd number\".\n",
    "Hints: Use % operator to check if a number is even or odd.\n",
    "\"\"\"\n",
    "\n",
    "def odd_even(num):\n",
    "    if num%2 ==0:\n",
    "        print(\"It is an even number\")\n",
    "    else:\n",
    "        print(\"It is an odd number\")\n",
    "\n",
    "number=int(input(\"Enter an Integer \"))\n",
    "\n",
    "odd_even(number)\n"
   ]
  },
  {
   "cell_type": "code",
   "execution_count": 46,
   "metadata": {},
   "outputs": [
    {
     "name": "stdout",
     "output_type": "stream",
     "text": [
      "{1: 1, 2: 4, 3: 9}\n"
     ]
    }
   ],
   "source": [
    "\"\"\"\n",
    "33. Define a function which can print a dictionary where the keys are numbers between 1 and 3 (both included) \n",
    "and the values are square of keys.\n",
    "\"\"\"\n",
    "\n",
    "def dict_display():\n",
    "    dict={}\n",
    "    for i in range(1,4):\n",
    "        #print(i)\n",
    "        dict[i]=i ** 2\n",
    "    print(dict)\n",
    "\n",
    "dict_display()"
   ]
  },
  {
   "cell_type": "code",
   "execution_count": 47,
   "metadata": {},
   "outputs": [
    {
     "name": "stdout",
     "output_type": "stream",
     "text": [
      "{1: 1, 2: 4, 3: 9, 4: 16, 5: 25, 6: 36, 7: 49, 8: 64, 9: 81, 10: 100, 11: 121, 12: 144, 13: 169, 14: 196, 15: 225, 16: 256, 17: 289, 18: 324, 19: 361, 20: 400}\n"
     ]
    }
   ],
   "source": [
    "\"\"\"\n",
    "34. Define a function which can print a dictionary where the keys are numbers between 1 and 20 (both included) \n",
    "and the values are square of keys.\n",
    "\"\"\"\n",
    "def dict_display():\n",
    "    dict={}\n",
    "    for i in range(1,21):\n",
    "        #print(i)\n",
    "        dict[i]=i ** 2\n",
    "    print(dict)\n",
    "\n",
    "dict_display()"
   ]
  },
  {
   "cell_type": "code",
   "execution_count": 55,
   "metadata": {},
   "outputs": [
    {
     "name": "stdout",
     "output_type": "stream",
     "text": [
      "1\n",
      "4\n",
      "9\n",
      "16\n",
      "25\n",
      "36\n",
      "49\n",
      "64\n",
      "81\n",
      "100\n",
      "121\n",
      "144\n",
      "169\n",
      "196\n",
      "225\n",
      "256\n",
      "289\n",
      "324\n",
      "361\n",
      "400\n"
     ]
    }
   ],
   "source": [
    "\"\"\"\n",
    "35. Define a function which can generate a dictionary where the keys are numbers between 1 and 20 (both included) and the \n",
    "values are square of keys. The function should just print the values only.\n",
    "\"\"\"\n",
    "\n",
    "def dict_display():\n",
    "    dict={}\n",
    "    for i in range(1,21):\n",
    "        #print(i)\n",
    "        dict[i]=i ** 2\n",
    "    for x in range(1,21):\n",
    "        #print(x)\n",
    "        print(dict[x])\n",
    "\n",
    "dict_display()\n"
   ]
  },
  {
   "cell_type": "code",
   "execution_count": 56,
   "metadata": {},
   "outputs": [
    {
     "name": "stdout",
     "output_type": "stream",
     "text": [
      "1\n",
      "2\n",
      "3\n",
      "4\n",
      "5\n",
      "6\n",
      "7\n",
      "8\n",
      "9\n",
      "10\n",
      "11\n",
      "12\n",
      "13\n",
      "14\n",
      "15\n",
      "16\n",
      "17\n",
      "18\n",
      "19\n",
      "20\n"
     ]
    }
   ],
   "source": [
    "\"\"\"\n",
    "36. Define a function which can generate a dictionary where the keys are numbers between 1 and 20 (both included) and \n",
    "the values are square of keys. The function should just print the keys only.\n",
    "\"\"\"\n",
    "\n",
    "def dict_display():\n",
    "    dict={}\n",
    "    for i in range(1,21):\n",
    "        #print(i)\n",
    "        dict[i]=i ** 2\n",
    "    for x in range(1,21):\n",
    "        #print(x)\n",
    "        print(x)\n",
    "\n",
    "dict_display()\n"
   ]
  },
  {
   "cell_type": "code",
   "execution_count": 60,
   "metadata": {},
   "outputs": [
    {
     "name": "stdout",
     "output_type": "stream",
     "text": [
      "[1, 4, 9, 16, 25, 36, 49, 64, 81, 100, 121, 144, 169, 196, 225, 256, 289, 324, 361, 400]\n"
     ]
    }
   ],
   "source": [
    "\"\"\"\n",
    "37. Define a function which can generate and print a list where the values are square of numbers between 1 and 20 \n",
    "(both included).\n",
    "\"\"\"\n",
    "\n",
    "def mylist():\n",
    "    list1=[]\n",
    "    for i in range(1,21):\n",
    "        list1.append(i ** 2)\n",
    "    print(list1)\n",
    "\n",
    "mylist()\n"
   ]
  },
  {
   "cell_type": "code",
   "execution_count": 61,
   "metadata": {},
   "outputs": [
    {
     "name": "stdout",
     "output_type": "stream",
     "text": [
      "[1, 4, 9, 16, 25]\n"
     ]
    }
   ],
   "source": [
    "\"\"\"\n",
    "38. Define a function which can generate a list where the values are square of numbers between 1 and 20 (both included). \n",
    "Then the function needs to print the first 5 elements in the list.\n",
    "\"\"\"\n",
    "def mylist():\n",
    "    list1=[]\n",
    "    for i in range(1,21):\n",
    "        list1.append(i ** 2)\n",
    "    print(list1[:5])\n",
    "\n",
    "mylist()"
   ]
  },
  {
   "cell_type": "code",
   "execution_count": 62,
   "metadata": {},
   "outputs": [
    {
     "name": "stdout",
     "output_type": "stream",
     "text": [
      "[36, 49, 64, 81, 100, 121, 144, 169, 196, 225, 256, 289, 324, 361, 400]\n"
     ]
    }
   ],
   "source": [
    "\"\"\"\n",
    "40. Define a function which can generate a list where the values are square of numbers between 1 and 20 (both included). \n",
    "Then the function needs to print all values except the first 5 elements in the list.\n",
    "\"\"\"\n",
    "def mylist():\n",
    "    list1=[]\n",
    "    for i in range(1,21):\n",
    "        list1.append(i ** 2)\n",
    "    print(list1[5:])\n",
    "\n",
    "mylist()"
   ]
  },
  {
   "cell_type": "code",
   "execution_count": 64,
   "metadata": {},
   "outputs": [
    {
     "name": "stdout",
     "output_type": "stream",
     "text": [
      "(1, 4, 9, 16, 25, 36, 49, 64, 81, 100, 121, 144, 169, 196, 225, 256, 289, 324, 361, 400)\n"
     ]
    }
   ],
   "source": [
    "\"\"\"\n",
    "41. Define a function which can generate and print a tuple where the value are square of numbers between 1 and 20 (both included).\n",
    "Hints: Use ** operator to get power of a number. Use range() for loops. Use list.append() to add values into a list. Use tuple() to get a tuple from a list.\n",
    "\"\"\"\n",
    "\n",
    "def mylist():\n",
    "    list1=[]\n",
    "    for i in range(1,21):\n",
    "        list1.append(i ** 2)\n",
    "    print(tuple(list1))\n",
    "\n",
    "mylist()"
   ]
  },
  {
   "cell_type": "code",
   "execution_count": 66,
   "metadata": {},
   "outputs": [
    {
     "name": "stdout",
     "output_type": "stream",
     "text": [
      "(1, 2, 3, 4, 5)\n",
      "(6, 7, 8, 9, 10)\n"
     ]
    }
   ],
   "source": [
    "\"\"\"\n",
    "42. With a given tuple (1,2,3,4,5,6,7,8,9,10), write a program to print the first half values in one line and \n",
    "the last half values in one line.\n",
    "\"\"\"\n",
    "\n",
    "t1=(1,2,3,4,5,6,7,8,9,10)\n",
    "\n",
    "print(t1[:5])\n",
    "print(t1[5:])"
   ]
  },
  {
   "cell_type": "code",
   "execution_count": 71,
   "metadata": {},
   "outputs": [
    {
     "name": "stdout",
     "output_type": "stream",
     "text": [
      "(2, 4, 6, 8, 10)\n"
     ]
    }
   ],
   "source": [
    "\"\"\"\n",
    "43. Write a program to generate and print another tuple whose values are even numbers in the given tuple (1,2,3,4,5,6,7,8,9,10).\n",
    "\"\"\"\n",
    "t1=(1,2,3,4,5,6,7,8,9,10)\n",
    "t2=[]\n",
    "\n",
    "#print(len(t1))\n",
    "#print(t1[0])\n",
    "for i in range(0,len(t1)):\n",
    "    #print(t1[i])\n",
    "    if t1[i] % 2 ==0:\n",
    "        t2.append(t1[i])\n",
    "\n",
    "print(tuple(t2))"
   ]
  },
  {
   "cell_type": "code",
   "execution_count": 76,
   "metadata": {},
   "outputs": [
    {
     "name": "stdout",
     "output_type": "stream",
     "text": [
      "Enter a word: YEs\n",
      "Yes\n"
     ]
    }
   ],
   "source": [
    "\"\"\"\n",
    "44. Write a program which accepts a string as input to print \"Yes\" if the string is \"yes\" or \"YES\" or \"Yes\", \n",
    "otherwise print \"No\".\n",
    "\"\"\"\n",
    "str1= input(\"Enter a word: \")\n",
    "\n",
    "#print(str1.upper())\n",
    "if str1.upper() ==\"YES\":\n",
    "    print(\"Yes\")\n",
    "else:\n",
    "    print(\"No\")"
   ]
  },
  {
   "cell_type": "code",
   "execution_count": 90,
   "metadata": {},
   "outputs": [
    {
     "ename": "TypeError",
     "evalue": "filter() takes 1 positional argument but 2 were given",
     "output_type": "error",
     "traceback": [
      "\u001b[1;31m---------------------------------------------------------------------------\u001b[0m",
      "\u001b[1;31mTypeError\u001b[0m                                 Traceback (most recent call last)",
      "\u001b[1;32m<ipython-input-90-7a711d8d89b1>\u001b[0m in \u001b[0;36m<module>\u001b[1;34m()\u001b[0m\n\u001b[0;32m      5\u001b[0m \u001b[0mList1\u001b[0m\u001b[1;33m=\u001b[0m\u001b[1;33m[\u001b[0m\u001b[1;36m1\u001b[0m\u001b[1;33m,\u001b[0m\u001b[1;36m2\u001b[0m\u001b[1;33m,\u001b[0m\u001b[1;36m3\u001b[0m\u001b[1;33m,\u001b[0m\u001b[1;36m4\u001b[0m\u001b[1;33m,\u001b[0m\u001b[1;36m5\u001b[0m\u001b[1;33m,\u001b[0m\u001b[1;36m6\u001b[0m\u001b[1;33m,\u001b[0m\u001b[1;36m7\u001b[0m\u001b[1;33m,\u001b[0m\u001b[1;36m8\u001b[0m\u001b[1;33m,\u001b[0m\u001b[1;36m9\u001b[0m\u001b[1;33m,\u001b[0m\u001b[1;36m10\u001b[0m\u001b[1;33m]\u001b[0m\u001b[1;33m\u001b[0m\u001b[0m\n\u001b[0;32m      6\u001b[0m \u001b[1;33m\u001b[0m\u001b[0m\n\u001b[1;32m----> 7\u001b[1;33m \u001b[0mfinal_list\u001b[0m \u001b[1;33m=\u001b[0m \u001b[0mlist\u001b[0m\u001b[1;33m(\u001b[0m\u001b[0mfilter\u001b[0m\u001b[1;33m(\u001b[0m\u001b[1;32mlambda\u001b[0m \u001b[0mx\u001b[0m\u001b[1;33m:\u001b[0m\u001b[1;33m(\u001b[0m\u001b[0mx\u001b[0m\u001b[1;33m%\u001b[0m\u001b[1;36m2\u001b[0m\u001b[1;33m==\u001b[0m\u001b[1;36m0\u001b[0m\u001b[1;33m)\u001b[0m\u001b[1;33m,\u001b[0m\u001b[0mList1\u001b[0m\u001b[1;33m)\u001b[0m\u001b[1;33m)\u001b[0m\u001b[1;33m\u001b[0m\u001b[0m\n\u001b[0m\u001b[0;32m      8\u001b[0m \u001b[0mprint\u001b[0m\u001b[1;33m(\u001b[0m\u001b[0mfinal_list\u001b[0m\u001b[1;33m)\u001b[0m\u001b[1;33m\u001b[0m\u001b[0m\n",
      "\u001b[1;31mTypeError\u001b[0m: filter() takes 1 positional argument but 2 were given"
     ]
    }
   ],
   "source": [
    "\"\"\"\n",
    "45. Write a program which can filter even numbers in a list by using filter function. The list is: [1,2,3,4,5,6,7,8,9,10].\n",
    "Hints: use filter() to filter some elements in a list. Use lambda to define anonymous functions.\n",
    "\"\"\"\n",
    "List1=[1,2,3,4,5,6,7,8,9,10]\n",
    "\n",
    "final_list = list(filter(lambda x:(x%2==0),List1)) \n",
    "print(final_list) \n",
    "\n"
   ]
  },
  {
   "cell_type": "code",
   "execution_count": 89,
   "metadata": {},
   "outputs": [
    {
     "name": "stdout",
     "output_type": "stream",
     "text": [
      "[1, 4, 9, 16, 25, 36, 49, 64, 81, 100]\n"
     ]
    }
   ],
   "source": [
    "\n",
    "\"\"\"\n",
    "46. Write a program which can map() to make a list whose elements are square of elements in [1,2,3,4,5,6,7,8,9,10].\n",
    "\"\"\"\n",
    "\n",
    "li = [1,2,3,4,5,6,7,8,9,10]\n",
    "final_list = list(map(lambda x: x*x , li)) \n",
    "print(final_list) \n",
    "\n"
   ]
  },
  {
   "cell_type": "code",
   "execution_count": null,
   "metadata": {},
   "outputs": [],
   "source": [
    "\"\"\"\n",
    "47. Write a program which can map() and filter() to make a list whose elements are square of even number in [1,2,3,4,5,6,7,8,9,10].\n",
    "\"\"\"\n",
    "li = [1,2,3,4,5,6,7,8,9,10] \n",
    "final_list = list(filter(lambda x: (x%2 == 0) , li)) \n",
    "#print(final_list)\n",
    "#li = [5, 7, 22, 97, 54, 62, 77, 23, 73, 61] \n",
    "final_list1 = list(map(lambda x: x*x , final_list)) \n",
    "print(final_list1) \n"
   ]
  },
  {
   "cell_type": "code",
   "execution_count": 92,
   "metadata": {},
   "outputs": [
    {
     "ename": "TypeError",
     "evalue": "filter() takes 1 positional argument but 2 were given",
     "output_type": "error",
     "traceback": [
      "\u001b[1;31m---------------------------------------------------------------------------\u001b[0m",
      "\u001b[1;31mTypeError\u001b[0m                                 Traceback (most recent call last)",
      "\u001b[1;32m<ipython-input-92-d5a802a6403a>\u001b[0m in \u001b[0;36m<module>\u001b[1;34m()\u001b[0m\n\u001b[0;32m      4\u001b[0m \u001b[0mlist1\u001b[0m\u001b[1;33m=\u001b[0m\u001b[0mlist\u001b[0m\u001b[1;33m(\u001b[0m\u001b[0mrange\u001b[0m\u001b[1;33m(\u001b[0m\u001b[1;36m1\u001b[0m\u001b[1;33m,\u001b[0m\u001b[1;36m21\u001b[0m\u001b[1;33m)\u001b[0m\u001b[1;33m)\u001b[0m\u001b[1;33m\u001b[0m\u001b[0m\n\u001b[0;32m      5\u001b[0m \u001b[1;31m#print(list1)\u001b[0m\u001b[1;33m\u001b[0m\u001b[1;33m\u001b[0m\u001b[0m\n\u001b[1;32m----> 6\u001b[1;33m \u001b[0mfinal_list\u001b[0m \u001b[1;33m=\u001b[0m \u001b[0mlist\u001b[0m\u001b[1;33m(\u001b[0m\u001b[0mfilter\u001b[0m\u001b[1;33m(\u001b[0m\u001b[1;32mlambda\u001b[0m \u001b[0mx\u001b[0m\u001b[1;33m:\u001b[0m \u001b[1;33m(\u001b[0m\u001b[0mx\u001b[0m\u001b[1;33m%\u001b[0m\u001b[1;36m2\u001b[0m \u001b[1;33m==\u001b[0m \u001b[1;36m0\u001b[0m\u001b[1;33m)\u001b[0m \u001b[1;33m,\u001b[0m \u001b[0mlist1\u001b[0m\u001b[1;33m)\u001b[0m\u001b[1;33m)\u001b[0m\u001b[1;33m\u001b[0m\u001b[0m\n\u001b[0m",
      "\u001b[1;31mTypeError\u001b[0m: filter() takes 1 positional argument but 2 were given"
     ]
    }
   ],
   "source": [
    "\"\"\"\n",
    "48. Write a program which can filter() to make a list whose elements are even number between 1 and 20 (both included).\n",
    "\"\"\"\n",
    "list1=list(range(1,21))\n",
    "#print(list1)\n",
    "final_list = list(filter(lambda x: (x%2 == 0) , list1)) \n"
   ]
  },
  {
   "cell_type": "code",
   "execution_count": 94,
   "metadata": {},
   "outputs": [
    {
     "name": "stdout",
     "output_type": "stream",
     "text": [
      "[1, 4, 9, 16, 25, 36, 49, 64, 81, 100]\n"
     ]
    }
   ],
   "source": [
    "\"\"\"\n",
    "49. Write a program which can map() to make a list whose elements are square of numbers between 1 and 20 (both included).\n",
    "\"\"\"\n",
    "\n",
    "list1=list(range(1,21))\n",
    "#print(list1)\n",
    "final_list = list(map(lambda x: x*x , li)) \n",
    "print(final_list)"
   ]
  },
  {
   "cell_type": "code",
   "execution_count": 97,
   "metadata": {},
   "outputs": [
    {
     "name": "stdout",
     "output_type": "stream",
     "text": [
      "Product: 50\n"
     ]
    }
   ],
   "source": [
    "\"\"\"\n",
    "50. Define a class named American which has a static method called printNationality.\n",
    "Hints: Use @staticmethod decorator to define class static method.\n",
    "\"\"\"\n",
    "\n",
    "class American:\n",
    "    @staticmethod\n",
    "    def multiplyNums(x, y):\n",
    "        return x * y\n",
    "\n",
    "print('Product:', American.multiplyNums(5, 10))"
   ]
  },
  {
   "cell_type": "code",
   "execution_count": 101,
   "metadata": {},
   "outputs": [
    {
     "ename": "TypeError",
     "evalue": "object() takes no parameters",
     "output_type": "error",
     "traceback": [
      "\u001b[1;31m---------------------------------------------------------------------------\u001b[0m",
      "\u001b[1;31mTypeError\u001b[0m                                 Traceback (most recent call last)",
      "\u001b[1;32m<ipython-input-101-a6cc7bce393b>\u001b[0m in \u001b[0;36m<module>\u001b[1;34m()\u001b[0m\n\u001b[0;32m     16\u001b[0m         \u001b[0mprint\u001b[0m\u001b[1;33m(\u001b[0m\u001b[1;34m\"Sub Class\"\u001b[0m\u001b[1;33m)\u001b[0m\u001b[1;33m\u001b[0m\u001b[0m\n\u001b[0;32m     17\u001b[0m \u001b[1;33m\u001b[0m\u001b[0m\n\u001b[1;32m---> 18\u001b[1;33m \u001b[0mN1\u001b[0m\u001b[1;33m=\u001b[0m\u001b[0mNewYorker\u001b[0m\u001b[1;33m(\u001b[0m\u001b[1;34m\"Test\"\u001b[0m\u001b[1;33m)\u001b[0m\u001b[1;33m\u001b[0m\u001b[0m\n\u001b[0m\u001b[0;32m     19\u001b[0m \u001b[0mprint\u001b[0m\u001b[1;33m(\u001b[0m\u001b[0mN1\u001b[0m\u001b[1;33m.\u001b[0m\u001b[0mdisplay\u001b[0m\u001b[1;33m(\u001b[0m\u001b[1;33m)\u001b[0m\u001b[1;33m)\u001b[0m\u001b[1;33m\u001b[0m\u001b[0m\n\u001b[0;32m     20\u001b[0m \u001b[1;33m\u001b[0m\u001b[0m\n",
      "\u001b[1;31mTypeError\u001b[0m: object() takes no parameters"
     ]
    }
   ],
   "source": [
    "\"\"\"\n",
    "51. Define a class named American and its subclass NewYorker.\n",
    "Hints: Use class Subclass(ParentClass) to define a subclass.\n",
    "\"\"\"\n",
    "\n",
    "class American(object):\n",
    "    @staticmethod\n",
    "    def multiplyNums(x, y):\n",
    "        return x * y\n",
    "    \n",
    "    def display(self):\n",
    "        print(\"Parent Class\")\n",
    "\n",
    "class NewYorker(American):\n",
    "    def display(self):\n",
    "        print(\"Sub Class\")\n",
    "\n",
    "N1=NewYorker(\"Test\")\n",
    "print(N1.display())\n",
    "    "
   ]
  },
  {
   "cell_type": "code",
   "execution_count": 102,
   "metadata": {},
   "outputs": [
    {
     "name": "stdout",
     "output_type": "stream",
     "text": [
      "xyz\n",
      "abc\n",
      "12\n"
     ]
    }
   ],
   "source": [
    "class Child():\n",
    "    def __init__(self,name):\n",
    "        self.name = name\n",
    "class Student(Child):\n",
    "    def __init__(self,name,roll):\n",
    "        self.roll = roll\n",
    "        Child.__init__(self,name)\n",
    "        \n",
    "a = Child(\"xyz\")\n",
    "print(a.name)\n",
    "b = Student(\"abc\",12)\n",
    "print(b.name)\n",
    "print(b.roll)"
   ]
  },
  {
   "cell_type": "code",
   "execution_count": 103,
   "metadata": {},
   "outputs": [
    {
     "name": "stdout",
     "output_type": "stream",
     "text": [
      "xyz\n",
      "abc\n"
     ]
    }
   ],
   "source": [
    "class Child():\n",
    "\tdef __init__(self,name):\n",
    "\t\tself.name = name\n",
    "class Student(Child):\n",
    "\tpass\n",
    "a = Child(\"xyz\")\n",
    "print(a.name)\n",
    "b = Student(\"abc\")\n",
    "print(b.name)"
   ]
  },
  {
   "cell_type": "code",
   "execution_count": 117,
   "metadata": {},
   "outputs": [
    {
     "name": "stdout",
     "output_type": "stream",
     "text": [
      "Area of Circle:78.5\n"
     ]
    }
   ],
   "source": [
    "\"\"\"\n",
    "52. Define a class named Circle which can be constructed by a radius. The Circle class has a method which can compute the area.\n",
    "Hints: Use def methodName(self) to define a method.\n",
    "\"\"\"\n",
    "class Circle():\n",
    "    def __init__(self,radius):\n",
    "        self.radius = radius\n",
    "\n",
    "    def Area(self):\n",
    "        print(\"Area of Circle:\"+ str(3.14 * self.radius ** 2))\n",
    "\n",
    "c1=Circle(5)\n",
    "c1.Area()"
   ]
  },
  {
   "cell_type": "code",
   "execution_count": 118,
   "metadata": {},
   "outputs": [
    {
     "name": "stdout",
     "output_type": "stream",
     "text": [
      "Area of Rectangle:20\n"
     ]
    }
   ],
   "source": [
    "\"\"\"\n",
    "53. Define a class named Rectangle which can be constructed by a length and width. \n",
    "The Rectangle class has a method which can compute the area.\n",
    "Hints: Use def methodName(self) to define a method.\n",
    "\"\"\"\n",
    "class Rectangle():\n",
    "    def __init__(self,length,width):\n",
    "        self.length = length\n",
    "        self.width = width\n",
    "\n",
    "    def Area(self):\n",
    "        print(\"Area of Rectangle:\"+ str(self.length * self.width))\n",
    "\n",
    "r1=Rectangle(5,4)\n",
    "r1.Area()"
   ]
  },
  {
   "cell_type": "code",
   "execution_count": 125,
   "metadata": {},
   "outputs": [
    {
     "name": "stdout",
     "output_type": "stream",
     "text": [
      "Area of Shape\n",
      "Area of Square:25\n"
     ]
    }
   ],
   "source": [
    "\"\"\"\n",
    "54. Define a class named Shape and its subclass Square. The Square class has an init function which takes a length as argument. \n",
    "Both classes have a area function which can print the area of the shape where Shape's area is 0 by default.\n",
    "\"\"\"\n",
    "class Shape(object):\n",
    "    def Area(self):\n",
    "        print(\"Area of Shape\")\n",
    "\n",
    "        \n",
    "class Square(Shape):\n",
    "    def __init__(self,length):\n",
    "        self.length = length     \n",
    "\n",
    "    def Area(self):\n",
    "        print(\"Area of Square:\"+ str(self.length * self.length))\n",
    "\n",
    "a = Shape()\n",
    "a.Area()\n",
    "b = Square(5)\n",
    "b.Area()\n"
   ]
  },
  {
   "cell_type": "code",
   "execution_count": 127,
   "metadata": {},
   "outputs": [
    {
     "name": "stdout",
     "output_type": "stream",
     "text": [
      "Variable x is not defined\n"
     ]
    }
   ],
   "source": [
    "try:\n",
    "  print(asd)\n",
    "except NameError:\n",
    "  print(\"Variable x is not defined\")\n",
    "except:\n",
    "  print(\"Something else went wrong\")"
   ]
  },
  {
   "cell_type": "code",
   "execution_count": 129,
   "metadata": {},
   "outputs": [
    {
     "name": "stdout",
     "output_type": "stream",
     "text": [
      "Enter an Integer 6\n",
      "Divisible by Zero Error\n"
     ]
    }
   ],
   "source": [
    "\"\"\"\n",
    "55. Write a function to compute 5/0 and use try/except to catch the exceptions.\n",
    "Hints: Use try/except to catch exceptions.\n",
    "\"\"\"\n",
    "\n",
    "def try_except(number):\n",
    "    try:\n",
    "        number/0\n",
    "    except:\n",
    "        print(\"Divisible by Zero Error\")\n",
    "\n",
    "number=int(input(\"Enter an Integer \"))\n",
    "\n",
    "try_except(number)"
   ]
  },
  {
   "cell_type": "code",
   "execution_count": 130,
   "metadata": {},
   "outputs": [
    {
     "ename": "ZeroDivisionError",
     "evalue": "division by zero",
     "output_type": "error",
     "traceback": [
      "\u001b[1;31m---------------------------------------------------------------------------\u001b[0m",
      "\u001b[1;31mZeroDivisionError\u001b[0m                         Traceback (most recent call last)",
      "\u001b[1;32m<ipython-input-130-0106664d39e8>\u001b[0m in \u001b[0;36m<module>\u001b[1;34m()\u001b[0m\n\u001b[1;32m----> 1\u001b[1;33m \u001b[1;36m5\u001b[0m\u001b[1;33m/\u001b[0m\u001b[1;36m0\u001b[0m\u001b[1;33m\u001b[0m\u001b[0m\n\u001b[0m",
      "\u001b[1;31mZeroDivisionError\u001b[0m: division by zero"
     ]
    }
   ],
   "source": [
    "5/0\n"
   ]
  },
  {
   "cell_type": "code",
   "execution_count": null,
   "metadata": {},
   "outputs": [],
   "source": [
    "\"\"\"\n",
    "56. Define a custom exception class which takes a string message as attribute.\n",
    "Hints: To define a custom exception, we need to define a class inherited from Exception.\n",
    "\"\"\"\n",
    "class Error(Exception):\n",
    "   \"\"\"Base class for other exceptions\"\"\"\n",
    "pass\n",
    "class ValueTooSmallError(Error):\n",
    "    \n",
    "   \"\"\"Raised when the input value is too small\"\"\"\n",
    "#print(\"value small\")\n",
    "pass\n",
    "class ValueTooLargeError(Error):\n",
    "   \"\"\"Raised when the input value is too large\"\"\"\n",
    "pass\n",
    "# our main program\n",
    "# user guesses a number until he/she gets it right\n",
    "# you need to guess this number\n",
    "number = 10\n",
    "while True:\n",
    "   try:\n",
    "       i_num = int(input(\"Enter a number: \"))\n",
    "       if i_num < number:\n",
    "           raise ValueTooSmallError\n",
    "       elif i_num > number:\n",
    "           raise ValueTooLargeError\n",
    "       break\n",
    "   except ValueTooSmallError:\n",
    "       print(\"This value is too small, try again!\")\n",
    "       print()\n",
    "   except ValueTooLargeError:\n",
    "       print(\"This value is too large, try again!\")\n",
    "       print()\n",
    "print(\"Congratulations! You guessed it correctly.\")"
   ]
  },
  {
   "cell_type": "code",
   "execution_count": null,
   "metadata": {},
   "outputs": [],
   "source": [
    "def KelvinToFahrenheit(Temperature):\n",
    "    assert (Temperature >= 0),\"Colder than absolute zero!\"\n",
    "    return ((Temperature-273)*1.8)+32\n",
    "\n",
    "\n",
    "print(KelvinToFahrenheit(273))\n",
    "#print(int(KelvinToFahrenheit(505.78)))\n",
    "#print(KelvinToFahrenheit(-5))"
   ]
  },
  {
   "cell_type": "code",
   "execution_count": 7,
   "metadata": {},
   "outputs": [
    {
     "name": "stdout",
     "output_type": "stream",
     "text": [
      "Enter an E-mail: AAAA@Outlook.com\n",
      "AAAA\n"
     ]
    }
   ],
   "source": [
    "\"\"\"\n",
    "57. Assuming that we have some email addresses in the \"username@companyname.com\" format, please write program to print the \n",
    "user name of a given email address. Both user names and company names are composed of letters only.\n",
    "\"\"\"\n",
    "\n",
    "from re import split \n",
    "\n",
    "email= input(\"Enter an E-mail: \")\n",
    "\n",
    "#print(split('\\W+', email)) \n",
    "an=split('\\W+', email)\n",
    "\n",
    "print(an[0])\n"
   ]
  },
  {
   "cell_type": "code",
   "execution_count": 3,
   "metadata": {},
   "outputs": [
    {
     "name": "stdout",
     "output_type": "stream",
     "text": [
      "pattern found inside the string\n"
     ]
    }
   ],
   "source": [
    "import re\n",
    "string = \"Python is fun\"\n",
    "# check if 'Python' is at the beginning\n",
    "match = re.search('\\APython', string)\n",
    "if match:\n",
    "  print(\"pattern found inside the string\")\n",
    "else:\n",
    "  print(\"pattern not found\") "
   ]
  },
  {
   "cell_type": "code",
   "execution_count": 10,
   "metadata": {},
   "outputs": [
    {
     "name": "stdout",
     "output_type": "stream",
     "text": [
      "Enter an E-mail: AAAA@Outlook.com\n",
      "Outlook\n"
     ]
    }
   ],
   "source": [
    "\"\"\"\n",
    "58. Assuming that we have some email addresses in the \"username@companyname.com\" format, please write program to print the \n",
    "company name of a given email address. Both user names and company names are composed of letters only.\n",
    "\"\"\"\n",
    "from re import split \n",
    "\n",
    "email= input(\"Enter an E-mail: \")\n",
    "\n",
    "#print(split('\\W+', email)) \n",
    "an=split('\\W+', email)\n",
    "\n",
    "print(an[1])"
   ]
  },
  {
   "cell_type": "code",
   "execution_count": null,
   "metadata": {},
   "outputs": [],
   "source": [
    "\"\"\"\n",
    "59. Write a program which accepts a sequence of words separated by whitespace as input to print the words composed of digits only.\n",
    "If the following words are given as input to the program: 2 cats and 3 dogs.\n",
    "Then, the output of the program should be: ['2', '3']\n",
    "\"\"\"\n",
    "\n",
    "import re \n",
    "\n",
    "line= input(\"Enter an alphanumeric Sentence: \")\n",
    "# \\d is equivalent to [0-9]. \n",
    "p = re.compile('\\d') \n",
    "\n",
    "print(p.findall(line)) \n",
    "  \n",
    "# \\d+ will match a group on [0-9], group of one or greater size \n",
    "p = re.compile('\\d+') \n",
    "print(p.findall(line)) "
   ]
  },
  {
   "cell_type": "code",
   "execution_count": 14,
   "metadata": {},
   "outputs": [
    {
     "name": "stdout",
     "output_type": "stream",
     "text": [
      "hello world \n",
      "i♥NY 😸\n",
      "i♥NY 😸\n"
     ]
    }
   ],
   "source": [
    "\"\"\"\n",
    "60. Print a unicode string \"hello world\".\n",
    "Hints: Use u'strings' format to define unicode string.\n",
    "\"\"\"\n",
    "\n",
    "a=u\"hello world \"\n",
    "b=u\"i♥NY 😸\"\n",
    "c=\"i♥NY 😸\"\n",
    "print(a)\n",
    "print(b)\n",
    "print(c)"
   ]
  },
  {
   "cell_type": "code",
   "execution_count": null,
   "metadata": {},
   "outputs": [],
   "source": [
    "\"\"\"\n",
    "61. Write a program to read an ASCII string and to convert it to a unicode string encoded by utf-8.\n",
    "Hints: Use unicode() function to convert.\n",
    "\"\"\"\n",
    "Ascii_str=input(\"Enter an alphanumeric Sentence: \")\n",
    "\n",
    "print(Ascii_str)\n",
    "print(Ascii_str.encode(\"utf-8\"))"
   ]
  },
  {
   "cell_type": "code",
   "execution_count": null,
   "metadata": {},
   "outputs": [],
   "source": [
    "\"\"\"\n",
    "62. Write a special comment to indicate a Python source code file is in unicode.\n",
    "\"\"\"\n"
   ]
  },
  {
   "cell_type": "code",
   "execution_count": 5,
   "metadata": {},
   "outputs": [
    {
     "name": "stdout",
     "output_type": "stream",
     "text": [
      "Enter a number: 5\n",
      "3.55\n"
     ]
    }
   ],
   "source": [
    "\"\"\"\n",
    "63. Write a program to compute 1/2+2/3+3/4+...+n/n+1 with a given n input by console (n>0).\n",
    "If the following n is given as input to the program: 5\n",
    "\"\"\"\n",
    "num=int(input(\"Enter a number: \"))\n",
    "sum=0\n",
    "for i in range(1,num+1):\n",
    "    #print(i)\n",
    "    sum=sum + i/(i + 1)\n",
    "print(round(sum,2))\n",
    "    \n"
   ]
  },
  {
   "cell_type": "code",
   "execution_count": 6,
   "metadata": {},
   "outputs": [
    {
     "data": {
      "text/plain": [
       "120"
      ]
     },
     "execution_count": 6,
     "metadata": {},
     "output_type": "execute_result"
    }
   ],
   "source": [
    "def factorial_recursive(n):\n",
    "    # Base case: 1! = 1\n",
    "    if n == 1:\n",
    "        return 1\n",
    "\n",
    "    # Recursive case: n! = n * (n-1)!\n",
    "    else:\n",
    "        return n * factorial_recursive(n-1)\n",
    "    \n",
    "factorial_recursive(5)"
   ]
  },
  {
   "cell_type": "code",
   "execution_count": 11,
   "metadata": {},
   "outputs": [
    {
     "data": {
      "text/plain": [
       "501"
      ]
     },
     "execution_count": 11,
     "metadata": {},
     "output_type": "execute_result"
    }
   ],
   "source": [
    "def factorial_recursive(n):\n",
    "    if n > 0:\n",
    "        #return 1\n",
    "        return factorial_recursive(n-1) + 100\n",
    "    \n",
    "    else:        \n",
    "        #return factorial_recursive(n-1) + 100\n",
    "        return 1\n",
    "    \n",
    "factorial_recursive(5)"
   ]
  },
  {
   "cell_type": "code",
   "execution_count": null,
   "metadata": {},
   "outputs": [],
   "source": []
  },
  {
   "cell_type": "code",
   "execution_count": null,
   "metadata": {},
   "outputs": [],
   "source": []
  },
  {
   "cell_type": "code",
   "execution_count": null,
   "metadata": {},
   "outputs": [],
   "source": []
  },
  {
   "cell_type": "code",
   "execution_count": null,
   "metadata": {},
   "outputs": [],
   "source": []
  },
  {
   "cell_type": "code",
   "execution_count": null,
   "metadata": {},
   "outputs": [],
   "source": []
  },
  {
   "cell_type": "code",
   "execution_count": null,
   "metadata": {},
   "outputs": [],
   "source": []
  },
  {
   "cell_type": "code",
   "execution_count": 22,
   "metadata": {},
   "outputs": [
    {
     "name": "stdout",
     "output_type": "stream",
     "text": [
      "Enter a sentence: abcdefgabc\n",
      "10\n",
      "10\n",
      "a,2\n",
      "b,2\n",
      "c,2\n",
      "d,1\n",
      "e,1\n",
      "f,1\n",
      "g,1\n",
      "a,2\n",
      "b,2\n",
      "c,2\n"
     ]
    }
   ],
   "source": [
    "\"\"\"\n",
    "95. Please write a program which count and print the numbers of each character in a string input by console.\n",
    "\"\"\"\n",
    "\n",
    "stry=input(\"Enter a sentence: \")\n",
    "l=len(stry)\n",
    "\n",
    "for i in range(0,l):\n",
    "    print(stry[i]+\",\"+str(stry.count(stry[i])))"
   ]
  },
  {
   "cell_type": "code",
   "execution_count": 12,
   "metadata": {},
   "outputs": [
    {
     "name": "stdout",
     "output_type": "stream",
     "text": [
      "Enter a sentence: rise to vote sir\n",
      "ris etov ot esir\n"
     ]
    }
   ],
   "source": [
    "\"\"\"\n",
    "96 Please write a program which accepts a string from console and print it in reverse order.\n",
    "If the following string is given as input to the program: rise to vote sir\n",
    "Then, the output of the program should be: ris etov ot esir\n",
    "Hints: Use list[::-1] to iterate a list in a reverse order.\n",
    "\"\"\"\n",
    "\n",
    "stry=input(\"Enter a sentence: \")\n",
    "print(stry[::-1])"
   ]
  },
  {
   "cell_type": "code",
   "execution_count": 13,
   "metadata": {},
   "outputs": [
    {
     "name": "stdout",
     "output_type": "stream",
     "text": [
      "Enter a sentence: H1e2l3l4o5w6o7r8l9d\n",
      "Helloworld\n"
     ]
    }
   ],
   "source": [
    "\"\"\"\n",
    "97. Please write a program which accepts a string from console and print the characters that have even indexes.\n",
    "If the following string is given as input to the program: H1e2l3l4o5w6o7r8l9d\n",
    "Then, the output of the program should be: Helloworld\n",
    "Hints: Use list[::2] to iterate a list by step 2.\n",
    "\"\"\"\n",
    "\n",
    "stry=input(\"Enter a sentence: \")\n",
    "print(stry[::2])"
   ]
  },
  {
   "cell_type": "code",
   "execution_count": null,
   "metadata": {},
   "outputs": [],
   "source": []
  }
 ],
 "metadata": {
  "kernelspec": {
   "display_name": "Python 3",
   "language": "python",
   "name": "python3"
  },
  "language_info": {
   "codemirror_mode": {
    "name": "ipython",
    "version": 3
   },
   "file_extension": ".py",
   "mimetype": "text/x-python",
   "name": "python",
   "nbconvert_exporter": "python",
   "pygments_lexer": "ipython3",
   "version": "3.6.5"
  }
 },
 "nbformat": 4,
 "nbformat_minor": 2
}
